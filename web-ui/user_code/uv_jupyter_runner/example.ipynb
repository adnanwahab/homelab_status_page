{
 "cells": [
  {
   "cell_type": "code",
   "execution_count": 2,
   "id": "5193312f-e4ed-48a7-8e6f-799ad225f935",
   "metadata": {},
   "outputs": [],
   "source": [
    "# hi\n"
   ]
  },
  {
   "cell_type": "code",
   "execution_count": null,
   "id": "0ce6936f-ffc0-49f3-bae4-d62f6bb12d63",
   "metadata": {},
   "outputs": [],
   "source": [
    "# Python standard library imports\n",
    "import os\n",
    "import sys\n",
    "import json\n",
    "import time\n",
    "import datetime\n",
    "import random\n",
    "import math\n",
    "import re\n",
    "import collections\n",
    "import itertools\n",
    "import functools\n",
    "import hashlib\n",
    "import uuid\n",
    "import threading\n",
    "import multiprocessing\n",
    "import subprocess\n",
    "import socket\n",
    "import urllib.request\n",
    "import urllib.parse\n",
    "import http.client\n",
    "import ssl\n",
    "import email\n",
    "import csv\n",
    "import xml.etree.ElementTree as ET\n",
    "import unittest\n",
    "import logging\n",
    "import argparse\n",
    "import configparser\n",
    "import pathlib\n",
    "import shutil\n",
    "import tempfile\n",
    "import contextlib\n",
    "import typing"
   ]
  }
 ],
 "metadata": {
  "kernelspec": {
   "display_name": "Python 3 (ipykernel)",
   "language": "python",
   "name": "python3"
  },
  "language_info": {
   "codemirror_mode": {
    "name": "ipython",
    "version": 3
   },
   "file_extension": ".py",
   "mimetype": "text/x-python",
   "name": "python",
   "nbconvert_exporter": "python",
   "pygments_lexer": "ipython3",
   "version": "3.11.6"
  }
 },
 "nbformat": 4,
 "nbformat_minor": 5
}
