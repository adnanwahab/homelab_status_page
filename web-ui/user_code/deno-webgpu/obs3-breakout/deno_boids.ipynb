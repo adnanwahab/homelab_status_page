{
 "cells": [
  {
   "cell_type": "code",
   "execution_count": 9,
   "id": "5b52bd2b-732b-422e-a03b-4d0ac3eaba5f",
   "metadata": {},
   "outputs": [
    {
     "name": "stdout",
     "output_type": "stream",
     "text": [
      "\u001b[90mundefined\u001b[39m\n"
     ]
    }
   ],
   "source": [
    "import {run_boids} from \"./boids/mod.ts\"\n",
    "\n",
    "\n",
    "console.log(run_boids)\n"
   ]
  },
  {
   "cell_type": "code",
   "execution_count": 11,
   "id": "60e32132-8cc7-4fa7-82af-14462e9dbbd0",
   "metadata": {},
   "outputs": [
    {
     "name": "stdout",
     "output_type": "stream",
     "text": [
      "\u001b[33m123\u001b[39m\n"
     ]
    }
   ],
   "source": [
    "console.log(123)"
   ]
  },
  {
   "cell_type": "code",
   "execution_count": 10,
   "id": "06f84a43-0510-4744-b44e-b276d8c12302",
   "metadata": {},
   "outputs": [
    {
     "name": "stdout",
     "output_type": "stream",
     "text": [
      "\u001b[90mundefined\u001b[39m\n"
     ]
    }
   ],
   "source": [
    "console.log(boids)\n",
    "\n",
    "\n",
    "// https://docs.deno.com/runtime/reference/cli/jupyter/"
   ]
  }
 ],
 "metadata": {
  "kernelspec": {
   "display_name": "Deno",
   "language": "typescript",
   "name": "deno"
  },
  "language_info": {
   "codemirror_mode": "typescript",
   "file_extension": ".ts",
   "mimetype": "text/x.typescript",
   "name": "typescript",
   "nbconvert_exporter": "script",
   "pygments_lexer": "typescript",
   "version": "5.6.2"
  }
 },
 "nbformat": 4,
 "nbformat_minor": 5
}
